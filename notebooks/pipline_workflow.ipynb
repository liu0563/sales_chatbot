{
 "cells": [
  {
   "cell_type": "code",
   "execution_count": null,
   "id": "e21b6e51-5b29-4b01-90c4-4b3bd9294a46",
   "metadata": {},
   "outputs": [],
   "source": [
    "%load_ext autotime\n",
    "import os, sys\n",
    "import pandas as pd\n",
    "pd.set_option('display.max_colwidth', 500)\n",
    "sys.path.append('/root/car_sales_QA/src')\n",
    "\n",
    "from retriever import Retriever\n",
    "from LLM_utils import LLM\n",
    "from prompt import generate_prompt\n",
    "\n",
    "# import prompt\n",
    "# import importlib\n",
    "# importlib.reload(prompt)\n",
    "\n",
    "# from prompt import generate_prompt"
   ]
  },
  {
   "cell_type": "code",
   "execution_count": null,
   "id": "1b5fb5cb-9963-4a69-91d9-f4519b18e18c",
   "metadata": {},
   "outputs": [],
   "source": [
    "import importlib\n",
    "import prompt\n",
    "importlib.reload(prompt)\n",
    "from prompt import generate_prompt"
   ]
  },
  {
   "cell_type": "code",
   "execution_count": null,
   "id": "b73d983c-4ff6-4507-9e7a-cd7502b142d3",
   "metadata": {},
   "outputs": [],
   "source": [
    "retriever = Retriever(embedder = 'BAAI/bge-m3',reranker = 'BAAI/bge-reranker-v2-m3',collection_name = 'sales_qa')\n",
    "model_id = 'Qwen/Qwen2.5-3B-Instruct'\n",
    "rewriter = LLM(model_id)\n",
    "\n",
    "model_id = 'ep-20250213200344-crq6r'\n",
    "gen_llm = LLM(model_id,api_key = os.getenv('ARK_API_KEY'),base_url = os.getenv('ARK_BASE_URL'),stream = True)"
   ]
  },
  {
   "cell_type": "code",
   "execution_count": null,
   "id": "f6ec7ac0-5bfb-4952-ba41-366f0b4b6daa",
   "metadata": {},
   "outputs": [],
   "source": [
    "history = []"
   ]
  },
  {
   "cell_type": "code",
   "execution_count": null,
   "id": "1a811ac5-56d7-44af-8b32-496749f577a7",
   "metadata": {},
   "outputs": [],
   "source": [
    "query = \"\"\"I want to compare the BMW cars with the porsche cars you mentioned the first time\"\"\"\n",
    "rewrite_prompt = generate_prompt('rewrite', query, history, reranked_chunks=None)\n",
    "rewritten_query = rewriter(rewrite_prompt)\n",
    "\n",
    "recall_docs, reranked_chunks = retriever.retrieve(rewritten_query)"
   ]
  },
  {
   "cell_type": "code",
   "execution_count": null,
   "id": "792b49c5-6ad7-4cea-8626-4dc63eb296aa",
   "metadata": {},
   "outputs": [],
   "source": [
    "generation_prompt = generate_prompt('generate', query, history, reranked_chunks)\n",
    "#generator = generation_llm(gen_llm,generation_prompt)\n",
    "generator = gen_llm(generation_prompt)\n",
    "response = ''\n",
    "for token in generator:\n",
    "    response += token\n",
    "    print(token, end = \"\")\n",
    "history.append({'User':rewritten_query, \"Assistant\": response})"
   ]
  },
  {
   "cell_type": "code",
   "execution_count": null,
   "id": "1fd5bb88-809d-48ad-9357-3ff45a1dd25e",
   "metadata": {},
   "outputs": [],
   "source": [
    "history[-1]"
   ]
  },
  {
   "cell_type": "code",
   "execution_count": null,
   "id": "503230c8-07c7-4583-bfd0-253cf9de18d3",
   "metadata": {
    "scrolled": true
   },
   "outputs": [],
   "source": [
    "import os\n",
    "from azure.ai.inference import ChatCompletionsClient\n",
    "from azure.core.credentials import AzureKeyCredential\n",
    "from dotenv import load_dotenv\n",
    "\n",
    "load_dotenv()\n",
    "model = ChatCompletionsClient(\n",
    "    endpoint=os.getenv('AZURE_ENDPOINT'),\n",
    "    credential=AzureKeyCredential(os.getenv('AZURE_API_KEY')),\n",
    ")\n",
    "\n",
    "from azure.ai.inference.models import SystemMessage, UserMessage\n",
    "\n",
    "response = model.complete(\n",
    "    messages=[\n",
    "        UserMessage(content='HI'),\n",
    "    ],\n",
    "    model=\"Llama-3.3-70B-Instruct\"\n",
    ")"
   ]
  },
  {
   "cell_type": "code",
   "execution_count": null,
   "id": "4db39661-9704-4224-831b-4a3ada2156a1",
   "metadata": {
    "scrolled": true
   },
   "outputs": [],
   "source": [
    "print(response.choices[0].message.content)"
   ]
  }
 ],
 "metadata": {
  "kernelspec": {
   "display_name": "RAG",
   "language": "python",
   "name": "rag"
  },
  "language_info": {
   "codemirror_mode": {
    "name": "ipython",
    "version": 3
   },
   "file_extension": ".py",
   "mimetype": "text/x-python",
   "name": "python",
   "nbconvert_exporter": "python",
   "pygments_lexer": "ipython3",
   "version": "3.9.21"
  }
 },
 "nbformat": 4,
 "nbformat_minor": 5
}
