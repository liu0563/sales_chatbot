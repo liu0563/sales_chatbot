{
 "cells": [
  {
   "cell_type": "code",
   "execution_count": 10,
   "id": "4f6e6ff7-c374-4c9b-aaca-569a7813534d",
   "metadata": {},
   "outputs": [],
   "source": [
    "import pandas as pd\n",
    "\n",
    "df1 = pd.read_csv('random_dealership_questions.csv')\n",
    "df2 = pd.read_csv('dealership_questions.csv')\n",
    "df = pd.concat([df1[~df1.duplicated()], df2])"
   ]
  },
  {
   "cell_type": "code",
   "execution_count": 1,
   "id": "2c782bd5-c6eb-4f00-8de2-f7730bdf2277",
   "metadata": {},
   "outputs": [
    {
     "name": "stdout",
     "output_type": "stream",
     "text": [
      "None\n"
     ]
    }
   ],
   "source": [
    "import os\n",
    "print(os.getenv(\"HF_HOME\"))"
   ]
  },
  {
   "cell_type": "code",
   "execution_count": null,
   "id": "6b19a919-1dca-4dab-a294-2a0cdd4b496f",
   "metadata": {},
   "outputs": [],
   "source": [
    "#1. query rewriting\n",
    "#2. intent classification - (Other, sales, service)\n",
    "#3. need for retrieval?\n"
   ]
  },
  {
   "cell_type": "code",
   "execution_count": 1,
   "id": "74fa0da4-02e3-46e1-b09d-cf2613d9c4ed",
   "metadata": {},
   "outputs": [],
   "source": [
    "import subprocess\n",
    "import os\n",
    "\n",
    "result = subprocess.run('bash -c \"source /etc/network_turbo && env | grep proxy\"', shell=True, capture_output=True, text=True)\n",
    "output = result.stdout\n",
    "for line in output.splitlines():\n",
    "    if '=' in line:\n",
    "        var, value = line.split('=', 1)\n",
    "        os.environ[var] = value"
   ]
  },
  {
   "cell_type": "code",
   "execution_count": 6,
   "id": "e85e0890-1dcb-49cb-8d44-ea9ef1b1e61d",
   "metadata": {},
   "outputs": [
    {
     "data": {
      "application/vnd.jupyter.widget-view+json": {
       "model_id": "9a647cb65e28424481c91fb6bf5a91a0",
       "version_major": 2,
       "version_minor": 0
      },
      "text/plain": [
       "VBox(children=(HTML(value='<center> <img\\nsrc=https://huggingface.co/front/assets/huggingface_logo-noborder.sv…"
      ]
     },
     "metadata": {},
     "output_type": "display_data"
    }
   ],
   "source": [
    "from huggingface_hub import notebook_login\n",
    "notebook_login()"
   ]
  },
  {
   "cell_type": "code",
   "execution_count": 2,
   "id": "059a3363-af42-4792-ad34-600c966fc3d3",
   "metadata": {},
   "outputs": [
    {
     "name": "stderr",
     "output_type": "stream",
     "text": [
      "/root/miniconda3/envs/rag/lib/python3.9/site-packages/tqdm/auto.py:21: TqdmWarning: IProgress not found. Please update jupyter and ipywidgets. See https://ipywidgets.readthedocs.io/en/stable/user_install.html\n",
      "  from .autonotebook import tqdm as notebook_tqdm\n",
      "Fetching 10 files:  60%|██████    | 6/10 [10:09<06:46, 101.64s/it]\n",
      "\n",
      "KeyboardInterrupt\n",
      "\n"
     ]
    }
   ],
   "source": [
    "from lmdeploy import pipeline\n",
    "llm = pipeline('Qwen/Qwen2.5-1.5B-Instruct')"
   ]
  },
  {
   "cell_type": "code",
   "execution_count": null,
   "id": "47b761e9-6510-4afd-b773-831a8ac83262",
   "metadata": {},
   "outputs": [],
   "source": []
  }
 ],
 "metadata": {
  "kernelspec": {
   "display_name": "rag",
   "language": "python",
   "name": "rag"
  },
  "language_info": {
   "codemirror_mode": {
    "name": "ipython",
    "version": 3
   },
   "file_extension": ".py",
   "mimetype": "text/x-python",
   "name": "python",
   "nbconvert_exporter": "python",
   "pygments_lexer": "ipython3",
   "version": "3.9.21"
  }
 },
 "nbformat": 4,
 "nbformat_minor": 5
}
