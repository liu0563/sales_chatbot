{
 "cells": [
  {
   "cell_type": "code",
   "execution_count": 1,
   "id": "3b1e0d4f-7d42-4e78-bd6d-580403434429",
   "metadata": {},
   "outputs": [
    {
     "name": "stdout",
     "output_type": "stream",
     "text": [
      "/root/miniconda3/bin/pip\n"
     ]
    }
   ],
   "source": [
    "!which pip"
   ]
  },
  {
   "cell_type": "code",
   "execution_count": 4,
   "id": "ac09f275-cbe7-4c81-add5-75f98a94defa",
   "metadata": {},
   "outputs": [],
   "source": [
    "# import os\n",
    "# os.environ['http_proxy'] = 'http://127.0.0.1:7890'\n",
    "# os.environ['https_proxy'] = 'http://127.0.0.1:7890'\n",
    "\n",
    "import asyncio, nest_asyncio\n",
    "from crawl4ai import *\n",
    "import re\n",
    "\n",
    "nest_asyncio.apply()\n",
    "\n",
    "def clean_malformed_urls(markdown,main_url):\n",
    "    \"\"\"\n",
    "    Removes '</>' patterns from the URL while preserving the content inside.\n",
    "    Example: 'https://www.edmunds.com/</honda/cr-v-efcev/>' -> 'https://www.edmunds.com/honda/cr-v-efcev/'\n",
    "    \"\"\"\n",
    "    markdown = re.sub(r\"</([^>]*)>\", r\"\\1\", markdown)\n",
    "    urls = list(set(re.findall(r'{}/[^)\"]+'.format(main_url), markdown)))\n",
    "    return urls\n",
    "\n",
    "async def fetch_markdown(url):\n",
    "    async with AsyncWebCrawler() as crawler:\n",
    "        result = await crawler.arun(\n",
    "            url = url,\n",
    "        )\n",
    "    return result.markdown\n",
    "    \n",
    "async def fetch_make_data(make):\n",
    "    main_url = f'https://www.edmunds.com/{make}'\n",
    "    main_url_md = await fetch_markdown(main_url)\n",
    "    urls = clean_malformed_urls(main_url_md, main_url)\n",
    "    return await asyncio.gather(*[fetch_markdown(url) for url in urls])\n",
    "\n",
    "\n",
    "# makes = [\n",
    "#     \"acura\", \"alfa romeo\", \"am general\", \"aston martin\", \"audi\"]\n",
    "\n",
    "# all_make_mds = await asyncio.gather(*[fetch_make_data(make) for make in makes])"
   ]
  },
  {
   "cell_type": "code",
   "execution_count": 6,
   "id": "830d473e-5185-43d3-9a1f-dd05a744d497",
   "metadata": {},
   "outputs": [],
   "source": [
    "\n",
    "# import os\n",
    "# os.environ['HF_ENDPOINT'] = 'https://hf-mirror.com'\n",
    "\n",
    "import subprocess\n",
    "import os\n",
    "\n",
    "result = subprocess.run('bash -c \"source /etc/network_turbo && env | grep proxy\"', shell=True, capture_output=True, text=True)\n",
    "output = result.stdout\n",
    "for line in output.splitlines():\n",
    "    if '=' in line:\n",
    "        var, value = line.split('=', 1)\n",
    "        os.environ[var] = value"
   ]
  },
  {
   "cell_type": "code",
   "execution_count": 5,
   "id": "8cbfc218-5a5f-4a14-9396-adf816ae8c28",
   "metadata": {},
   "outputs": [
    {
     "name": "stdout",
     "output_type": "stream",
     "text": [
      "[INIT].... → Crawl4AI 0.4.248\n",
      "[FETCH]... ↓ https://www.edmunds.com/honda... | Status: True | Time: 0.01s\n",
      "[COMPLETE] ● https://www.edmunds.com/honda... | Status: True | Total: 0.01s\n"
     ]
    }
   ],
   "source": [
    "res = asyncio.run(fetch_markdown(\"https://www.edmunds.com/honda\"))"
   ]
  },
  {
   "cell_type": "code",
   "execution_count": 6,
   "id": "e4144c2b-b183-4c35-a0f7-88ceccb23dcd",
   "metadata": {},
   "outputs": [
    {
     "data": {
      "text/plain": [
       "'# Access Denied\\nYou don\\'t have permission to access \"http://www.edmunds.com/honda\" on this server.\\nReference #18.b85e645f.1739353341.40b7cb5 \\nhttps://errors.edgesuite.net/18.b85e645f.1739353341.40b7cb5\\n'"
      ]
     },
     "execution_count": 6,
     "metadata": {},
     "output_type": "execute_result"
    }
   ],
   "source": [
    "res"
   ]
  },
  {
   "cell_type": "code",
   "execution_count": 6,
   "id": "d002c84d-9580-420f-a633-99751699f5b6",
   "metadata": {},
   "outputs": [
    {
     "name": "stdout",
     "output_type": "stream",
     "text": [
      "[INIT].... → Crawl4AI 0.4.248\n",
      "[INIT].... → Crawl4AI 0.4.248\n",
      "[INIT].... → Crawl4AI 0.4.248\n",
      "[FETCH]... ↓ https://www.edmunds.com/acura... | Status: True | Time: 0.02s\n",
      "[COMPLETE] ● https://www.edmunds.com/acura... | Status: True | Total: 0.03s\n",
      "[FETCH]... ↓ https://www.edmunds.com/aston martin... | Status: True | Time: 0.04s\n",
      "[COMPLETE] ● https://www.edmunds.com/aston martin... | Status: True | Total: 0.05s\n",
      "[INIT].... → Crawl4AI 0.4.248\n",
      "[INIT].... → Crawl4AI 0.4.248\n",
      "[FETCH]... ↓ https://www.edmunds.com/audi... | Status: True | Time: 0.10s\n",
      "[COMPLETE] ● https://www.edmunds.com/audi... | Status: True | Total: 0.11s\n",
      "[FETCH]... ↓ https://www.edmunds.com/alfa romeo... | Status: True | Time: 0.04s\n",
      "[COMPLETE] ● https://www.edmunds.com/alfa romeo... | Status: True | Total: 0.05s\n",
      "[FETCH]... ↓ https://www.edmunds.com/am general... | Status: True | Time: 0.06s\n",
      "[COMPLETE] ● https://www.edmunds.com/am general... | Status: True | Total: 0.07s\n"
     ]
    }
   ],
   "source": [
    "\n",
    "makes = [\n",
    "    \"acura\", \"alfa romeo\", \"am general\", \"aston martin\", \"audi\"]\n",
    "\n",
    "all_make_mds = await asyncio.gather(*[fetch_make_data(make) for make in makes])"
   ]
  },
  {
   "cell_type": "code",
   "execution_count": 7,
   "id": "a1de81e8-6871-49e4-84ee-810692c5c45d",
   "metadata": {},
   "outputs": [
    {
     "data": {
      "text/plain": [
       "[]"
      ]
     },
     "execution_count": 7,
     "metadata": {},
     "output_type": "execute_result"
    }
   ],
   "source": [
    "all_make_mds[0]"
   ]
  },
  {
   "cell_type": "code",
   "execution_count": null,
   "id": "2e9c41eb-6f30-4179-bf1a-97a65e1a330d",
   "metadata": {},
   "outputs": [],
   "source": []
  }
 ],
 "metadata": {
  "kernelspec": {
   "display_name": "base",
   "language": "python",
   "name": "base"
  },
  "language_info": {
   "codemirror_mode": {
    "name": "ipython",
    "version": 3
   },
   "file_extension": ".py",
   "mimetype": "text/x-python",
   "name": "python",
   "nbconvert_exporter": "python",
   "pygments_lexer": "ipython3",
   "version": "3.12.3"
  }
 },
 "nbformat": 4,
 "nbformat_minor": 5
}
