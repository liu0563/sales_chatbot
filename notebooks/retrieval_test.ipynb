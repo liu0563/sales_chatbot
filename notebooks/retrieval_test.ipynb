{
 "cells": [
  {
   "cell_type": "code",
   "execution_count": 2,
   "id": "c60edff6-258c-411d-8288-4c08c2882616",
   "metadata": {},
   "outputs": [],
   "source": [
    "from qdrant_client import QdrantClient\n",
    "from qdrant_client.models import VectorParams, Distance, PointStruct\n",
    "\n",
    "client = QdrantClient(path=\"./car/\")"
   ]
  },
  {
   "cell_type": "code",
   "execution_count": null,
   "id": "1b0a8089-dc5e-4475-ad9e-0e4eafcae0c4",
   "metadata": {},
   "outputs": [],
   "source": [
    "client.create_collection(\n",
    "   collection_name=\"test\",\n",
    "   vectors_config={\n",
    "       \"title\": VectorParams(\n",
    "           size=1024,\n",
    "           distance=Distance.COSINE,\n",
    "       )}\n",
    "       )\n",
    "\n",
    "import pandas as pd\n",
    "df = pd.read_csv('问题解决手册-v2 outward.csv',encoding=\"gbk\")\n",
    "df['text'] = df['报错 描述'] + ' ' + df['解决方案']\n",
    "df = df.dropna()\n",
    "title_des_embeds = model.encode(df['text'].tolist() ,batch_size = 64,max_length = 8192)['dense_vecs']\n",
    "\n",
    "# NOTE: consider splitting the data into chunks to avoid hitting the server's payload size limit\n",
    "# or use `upload_collection` or `upload_points` methods which handle this for you\n",
    "# WARNING: uploading points one-by-one is not recommended due to requests overhead\n",
    "client.upsert(\n",
    "    collection_name=\"test\",\n",
    "    points=[\n",
    "        PointStruct(id=i, vector={ \"title_description\": tit_des_embed.tolist() },\n",
    "        payload={'title_description':doc},\n",
    "        )\n",
    "        for i, (tit_des_embed, doc) in enumerate(zip(title_des_embeds, df['text'].tolist()))\n",
    "    ] \n",
    ")"
   ]
  },
  {
   "cell_type": "code",
   "execution_count": 1,
   "id": "8dd6eecb-2cba-49ea-912b-1db40438b0fc",
   "metadata": {},
   "outputs": [],
   "source": [
    "import os\n",
    "os.environ['HF_ENDPOINT'] = 'https://hf-mirror.com'\n",
    "os.environ[\"HF_HOME\"] = \"/root/autodl-tmp/.cache/huggingface\"\n",
    "os.environ['LMDEPLOY_USE_MODELSCOPE'] = 'True'\n",
    "\n",
    "#huggingface-cli download --resume-download DeepFloyd/t5-v1_1-xxl"
   ]
  },
  {
   "cell_type": "code",
   "execution_count": 1,
   "id": "52e6f2b8-fc4f-4000-b928-7d46c4c425fd",
   "metadata": {
    "collapsed": true,
    "jupyter": {
     "outputs_hidden": true
    },
    "scrolled": true
   },
   "outputs": [
    {
     "ename": "RuntimeError",
     "evalue": "Storage folder ./car/ is already accessed by another instance of Qdrant client. If you require concurrent access, use Qdrant server instead.",
     "output_type": "error",
     "traceback": [
      "\u001b[0;31m---------------------------------------------------------------------------\u001b[0m",
      "\u001b[0;31mBlockingIOError\u001b[0m                           Traceback (most recent call last)",
      "File \u001b[0;32m~/miniconda3/envs/rag/lib/python3.9/site-packages/portalocker/portalocker.py:118\u001b[0m, in \u001b[0;36mlock\u001b[0;34m(file_, flags)\u001b[0m\n\u001b[1;32m    117\u001b[0m \u001b[38;5;28;01mtry\u001b[39;00m:\n\u001b[0;32m--> 118\u001b[0m     \u001b[43mLOCKER\u001b[49m\u001b[43m(\u001b[49m\u001b[43mfile_\u001b[49m\u001b[43m,\u001b[49m\u001b[43m \u001b[49m\u001b[43mflags\u001b[49m\u001b[43m)\u001b[49m\n\u001b[1;32m    119\u001b[0m \u001b[38;5;28;01mexcept\u001b[39;00m \u001b[38;5;167;01mOSError\u001b[39;00m \u001b[38;5;28;01mas\u001b[39;00m exc_value:\n\u001b[1;32m    120\u001b[0m     \u001b[38;5;66;03m# Python can use one of several different exception classes to\u001b[39;00m\n\u001b[1;32m    121\u001b[0m     \u001b[38;5;66;03m# represent timeout (most likely is BlockingIOError and IOError),\u001b[39;00m\n\u001b[0;32m   (...)\u001b[0m\n\u001b[1;32m    126\u001b[0m     \u001b[38;5;66;03m# inherit) and check the errno (which should be EACCESS or EAGAIN\u001b[39;00m\n\u001b[1;32m    127\u001b[0m     \u001b[38;5;66;03m# according to the spec).\u001b[39;00m\n",
      "\u001b[0;31mBlockingIOError\u001b[0m: [Errno 11] Resource temporarily unavailable",
      "\nThe above exception was the direct cause of the following exception:\n",
      "\u001b[0;31mAlreadyLocked\u001b[0m                             Traceback (most recent call last)",
      "File \u001b[0;32m~/miniconda3/envs/rag/lib/python3.9/site-packages/qdrant_client/local/qdrant_local.py:134\u001b[0m, in \u001b[0;36mQdrantLocal._load\u001b[0;34m(self)\u001b[0m\n\u001b[1;32m    133\u001b[0m \u001b[38;5;28;01mtry\u001b[39;00m:\n\u001b[0;32m--> 134\u001b[0m     \u001b[43mportalocker\u001b[49m\u001b[38;5;241;43m.\u001b[39;49m\u001b[43mlock\u001b[49m\u001b[43m(\u001b[49m\n\u001b[1;32m    135\u001b[0m \u001b[43m        \u001b[49m\u001b[38;5;28;43mself\u001b[39;49m\u001b[38;5;241;43m.\u001b[39;49m\u001b[43m_flock_file\u001b[49m\u001b[43m,\u001b[49m\n\u001b[1;32m    136\u001b[0m \u001b[43m        \u001b[49m\u001b[43mportalocker\u001b[49m\u001b[38;5;241;43m.\u001b[39;49m\u001b[43mLockFlags\u001b[49m\u001b[38;5;241;43m.\u001b[39;49m\u001b[43mEXCLUSIVE\u001b[49m\u001b[43m \u001b[49m\u001b[38;5;241;43m|\u001b[39;49m\u001b[43m \u001b[49m\u001b[43mportalocker\u001b[49m\u001b[38;5;241;43m.\u001b[39;49m\u001b[43mLockFlags\u001b[49m\u001b[38;5;241;43m.\u001b[39;49m\u001b[43mNON_BLOCKING\u001b[49m\u001b[43m,\u001b[49m\n\u001b[1;32m    137\u001b[0m \u001b[43m    \u001b[49m\u001b[43m)\u001b[49m\n\u001b[1;32m    138\u001b[0m \u001b[38;5;28;01mexcept\u001b[39;00m portalocker\u001b[38;5;241m.\u001b[39mexceptions\u001b[38;5;241m.\u001b[39mLockException:\n",
      "File \u001b[0;32m~/miniconda3/envs/rag/lib/python3.9/site-packages/portalocker/portalocker.py:131\u001b[0m, in \u001b[0;36mlock\u001b[0;34m(file_, flags)\u001b[0m\n\u001b[1;32m    128\u001b[0m \u001b[38;5;28;01mif\u001b[39;00m exc_value\u001b[38;5;241m.\u001b[39merrno \u001b[38;5;129;01min\u001b[39;00m (errno\u001b[38;5;241m.\u001b[39mEACCES, errno\u001b[38;5;241m.\u001b[39mEAGAIN):\n\u001b[1;32m    129\u001b[0m     \u001b[38;5;66;03m# A timeout exception, wrap this so the outer code knows to try\u001b[39;00m\n\u001b[1;32m    130\u001b[0m     \u001b[38;5;66;03m# again (if it wants to).\u001b[39;00m\n\u001b[0;32m--> 131\u001b[0m     \u001b[38;5;28;01mraise\u001b[39;00m exceptions\u001b[38;5;241m.\u001b[39mAlreadyLocked(\n\u001b[1;32m    132\u001b[0m         exc_value,\n\u001b[1;32m    133\u001b[0m         fh\u001b[38;5;241m=\u001b[39mfile_,\n\u001b[1;32m    134\u001b[0m     ) \u001b[38;5;28;01mfrom\u001b[39;00m \u001b[38;5;21;01mexc_value\u001b[39;00m\n\u001b[1;32m    135\u001b[0m \u001b[38;5;28;01melse\u001b[39;00m:\n\u001b[1;32m    136\u001b[0m     \u001b[38;5;66;03m# Something else went wrong; don't wrap this so we stop\u001b[39;00m\n\u001b[1;32m    137\u001b[0m     \u001b[38;5;66;03m# immediately.\u001b[39;00m\n",
      "\u001b[0;31mAlreadyLocked\u001b[0m: [Errno 11] Resource temporarily unavailable",
      "\nDuring handling of the above exception, another exception occurred:\n",
      "\u001b[0;31mRuntimeError\u001b[0m                              Traceback (most recent call last)",
      "Cell \u001b[0;32mIn[1], line 4\u001b[0m\n\u001b[1;32m      2\u001b[0m \u001b[38;5;28;01mfrom\u001b[39;00m \u001b[38;5;21;01mqdrant_client\u001b[39;00m\u001b[38;5;21;01m.\u001b[39;00m\u001b[38;5;21;01mmodels\u001b[39;00m \u001b[38;5;28;01mimport\u001b[39;00m VectorParams, Distance, PointStruct\n\u001b[1;32m      3\u001b[0m \u001b[38;5;28;01mimport\u001b[39;00m \u001b[38;5;21;01mpandas\u001b[39;00m \u001b[38;5;28;01mas\u001b[39;00m \u001b[38;5;21;01mpd\u001b[39;00m\n\u001b[0;32m----> 4\u001b[0m client \u001b[38;5;241m=\u001b[39m \u001b[43mQdrantClient\u001b[49m\u001b[43m(\u001b[49m\u001b[43mpath\u001b[49m\u001b[38;5;241;43m=\u001b[39;49m\u001b[38;5;124;43m\"\u001b[39;49m\u001b[38;5;124;43m./car/\u001b[39;49m\u001b[38;5;124;43m\"\u001b[39;49m\u001b[43m)\u001b[49m\n",
      "File \u001b[0;32m~/miniconda3/envs/rag/lib/python3.9/site-packages/qdrant_client/qdrant_client.py:130\u001b[0m, in \u001b[0;36mQdrantClient.__init__\u001b[0;34m(self, location, url, port, grpc_port, prefer_grpc, https, api_key, prefix, timeout, host, path, force_disable_check_same_thread, grpc_options, auth_token_provider, cloud_inference, check_compatibility, **kwargs)\u001b[0m\n\u001b[1;32m    125\u001b[0m     \u001b[38;5;28mself\u001b[39m\u001b[38;5;241m.\u001b[39m_client \u001b[38;5;241m=\u001b[39m QdrantLocal(\n\u001b[1;32m    126\u001b[0m         location\u001b[38;5;241m=\u001b[39mlocation,\n\u001b[1;32m    127\u001b[0m         force_disable_check_same_thread\u001b[38;5;241m=\u001b[39mforce_disable_check_same_thread,\n\u001b[1;32m    128\u001b[0m     )\n\u001b[1;32m    129\u001b[0m \u001b[38;5;28;01melif\u001b[39;00m path \u001b[38;5;129;01mis\u001b[39;00m \u001b[38;5;129;01mnot\u001b[39;00m \u001b[38;5;28;01mNone\u001b[39;00m:\n\u001b[0;32m--> 130\u001b[0m     \u001b[38;5;28mself\u001b[39m\u001b[38;5;241m.\u001b[39m_client \u001b[38;5;241m=\u001b[39m \u001b[43mQdrantLocal\u001b[49m\u001b[43m(\u001b[49m\n\u001b[1;32m    131\u001b[0m \u001b[43m        \u001b[49m\u001b[43mlocation\u001b[49m\u001b[38;5;241;43m=\u001b[39;49m\u001b[43mpath\u001b[49m\u001b[43m,\u001b[49m\n\u001b[1;32m    132\u001b[0m \u001b[43m        \u001b[49m\u001b[43mforce_disable_check_same_thread\u001b[49m\u001b[38;5;241;43m=\u001b[39;49m\u001b[43mforce_disable_check_same_thread\u001b[49m\u001b[43m,\u001b[49m\n\u001b[1;32m    133\u001b[0m \u001b[43m    \u001b[49m\u001b[43m)\u001b[49m\n\u001b[1;32m    134\u001b[0m \u001b[38;5;28;01melse\u001b[39;00m:\n\u001b[1;32m    135\u001b[0m     \u001b[38;5;28;01mif\u001b[39;00m location \u001b[38;5;129;01mis\u001b[39;00m \u001b[38;5;129;01mnot\u001b[39;00m \u001b[38;5;28;01mNone\u001b[39;00m \u001b[38;5;129;01mand\u001b[39;00m url \u001b[38;5;129;01mis\u001b[39;00m \u001b[38;5;28;01mNone\u001b[39;00m:\n",
      "File \u001b[0;32m~/miniconda3/envs/rag/lib/python3.9/site-packages/qdrant_client/local/qdrant_local.py:67\u001b[0m, in \u001b[0;36mQdrantLocal.__init__\u001b[0;34m(self, location, force_disable_check_same_thread)\u001b[0m\n\u001b[1;32m     65\u001b[0m \u001b[38;5;28mself\u001b[39m\u001b[38;5;241m.\u001b[39maliases: \u001b[38;5;28mdict\u001b[39m[\u001b[38;5;28mstr\u001b[39m, \u001b[38;5;28mstr\u001b[39m] \u001b[38;5;241m=\u001b[39m {}\n\u001b[1;32m     66\u001b[0m \u001b[38;5;28mself\u001b[39m\u001b[38;5;241m.\u001b[39m_flock_file: Optional[TextIOWrapper] \u001b[38;5;241m=\u001b[39m \u001b[38;5;28;01mNone\u001b[39;00m\n\u001b[0;32m---> 67\u001b[0m \u001b[38;5;28;43mself\u001b[39;49m\u001b[38;5;241;43m.\u001b[39;49m\u001b[43m_load\u001b[49m\u001b[43m(\u001b[49m\u001b[43m)\u001b[49m\n\u001b[1;32m     68\u001b[0m \u001b[38;5;28mself\u001b[39m\u001b[38;5;241m.\u001b[39m_closed: \u001b[38;5;28mbool\u001b[39m \u001b[38;5;241m=\u001b[39m \u001b[38;5;28;01mFalse\u001b[39;00m\n",
      "File \u001b[0;32m~/miniconda3/envs/rag/lib/python3.9/site-packages/qdrant_client/local/qdrant_local.py:139\u001b[0m, in \u001b[0;36mQdrantLocal._load\u001b[0;34m(self)\u001b[0m\n\u001b[1;32m    134\u001b[0m     portalocker\u001b[38;5;241m.\u001b[39mlock(\n\u001b[1;32m    135\u001b[0m         \u001b[38;5;28mself\u001b[39m\u001b[38;5;241m.\u001b[39m_flock_file,\n\u001b[1;32m    136\u001b[0m         portalocker\u001b[38;5;241m.\u001b[39mLockFlags\u001b[38;5;241m.\u001b[39mEXCLUSIVE \u001b[38;5;241m|\u001b[39m portalocker\u001b[38;5;241m.\u001b[39mLockFlags\u001b[38;5;241m.\u001b[39mNON_BLOCKING,\n\u001b[1;32m    137\u001b[0m     )\n\u001b[1;32m    138\u001b[0m \u001b[38;5;28;01mexcept\u001b[39;00m portalocker\u001b[38;5;241m.\u001b[39mexceptions\u001b[38;5;241m.\u001b[39mLockException:\n\u001b[0;32m--> 139\u001b[0m     \u001b[38;5;28;01mraise\u001b[39;00m \u001b[38;5;167;01mRuntimeError\u001b[39;00m(\n\u001b[1;32m    140\u001b[0m         \u001b[38;5;124mf\u001b[39m\u001b[38;5;124m\"\u001b[39m\u001b[38;5;124mStorage folder \u001b[39m\u001b[38;5;132;01m{\u001b[39;00m\u001b[38;5;28mself\u001b[39m\u001b[38;5;241m.\u001b[39mlocation\u001b[38;5;132;01m}\u001b[39;00m\u001b[38;5;124m is already accessed by another instance of Qdrant client.\u001b[39m\u001b[38;5;124m\"\u001b[39m\n\u001b[1;32m    141\u001b[0m         \u001b[38;5;124mf\u001b[39m\u001b[38;5;124m\"\u001b[39m\u001b[38;5;124m If you require concurrent access, use Qdrant server instead.\u001b[39m\u001b[38;5;124m\"\u001b[39m\n\u001b[1;32m    142\u001b[0m     )\n",
      "\u001b[0;31mRuntimeError\u001b[0m: Storage folder ./car/ is already accessed by another instance of Qdrant client. If you require concurrent access, use Qdrant server instead."
     ]
    }
   ],
   "source": [
    "from qdrant_client import QdrantClient\n",
    "from qdrant_client.models import VectorParams, Distance, PointStruct\n",
    "import pandas as pd\n",
    "client = QdrantClient(path=\"./car/\")"
   ]
  },
  {
   "cell_type": "code",
   "execution_count": 3,
   "id": "13d1163f-ffbe-44d4-83b9-e18c0058b55e",
   "metadata": {},
   "outputs": [
    {
     "data": {
      "application/vnd.jupyter.widget-view+json": {
       "model_id": "0f2f58345bfb4bf78533781310b7bea8",
       "version_major": 2,
       "version_minor": 0
      },
      "text/plain": [
       "Fetching 30 files:   0%|          | 0/30 [00:00<?, ?it/s]"
      ]
     },
     "metadata": {},
     "output_type": "display_data"
    }
   ],
   "source": [
    "\n",
    "from FlagEmbedding import BGEM3FlagModel,FlagReranker\n",
    "\n",
    "model = BGEM3FlagModel('BAAI/bge-m3',  use_fp16=True) \n",
    "reranker = FlagReranker('BAAI/bge-reranker-v2-m3', use_fp16=True) "
   ]
  },
  {
   "cell_type": "code",
   "execution_count": 4,
   "id": "994bbcdf-48bf-46af-b6f2-490f6cbba898",
   "metadata": {},
   "outputs": [
    {
     "name": "stderr",
     "output_type": "stream",
     "text": [
      "initial target device: 100%|██████████| 2/2 [00:11<00:00,  5.66s/it]\n",
      "Chunks:   0%|          | 0/1 [00:00<?, ?it/s]You're using a XLMRobertaTokenizerFast tokenizer. Please note that with a fast tokenizer, using the `__call__` method is faster than using a method to encode the text followed by a call to the `pad` method to get a padded encoding.\n",
      "Chunks: 100%|██████████| 1/1 [00:01<00:00,  1.20s/it]\n"
     ]
    }
   ],
   "source": [
    "query = \"\"\"I need a car with excellent sound system\"\"\"\n",
    "query_embed = model.encode([query])['dense_vecs'][0]"
   ]
  },
  {
   "cell_type": "code",
   "execution_count": 7,
   "id": "166c8c86-9ca8-48d2-96ae-761a4890495d",
   "metadata": {},
   "outputs": [
    {
     "name": "stderr",
     "output_type": "stream",
     "text": [
      "initial target device: 100%|██████████| 2/2 [00:11<00:00,  5.96s/it]\n",
      "Chunks:   0%|          | 0/2 [00:00<?, ?it/s]You're using a XLMRobertaTokenizerFast tokenizer. Please note that with a fast tokenizer, using the `__call__` method is faster than using a method to encode the text followed by a call to the `pad` method to get a padded encoding.\n",
      "You're using a XLMRobertaTokenizerFast tokenizer. Please note that with a fast tokenizer, using the `__call__` method is faster than using a method to encode the text followed by a call to the `pad` method to get a padded encoding.\n",
      "Chunks: 100%|██████████| 2/2 [00:02<00:00,  1.21s/it]\n"
     ]
    }
   ],
   "source": [
    "pd.set_option('display.max_colwidth', 500)\n",
    "#Retrieve top 50\n",
    "pts = client.query_points(collection_name=\"sales_qa\", query=query_embed.tolist(),using=\"title_description\",limit = 50).points\n",
    "res = [[point.payload['title_description'],point.score] for point in pts]\n",
    "res_df = pd.DataFrame(res,columns = ['title_description','score'])\n",
    "\n",
    "#Reranking\n",
    "pairs = [(query, doc) for doc in res_df.title_description.tolist()]\n",
    "score = reranker.compute_score(pairs)\n",
    "\n",
    "indices = list(range(len(score)))\n",
    "indices.sort(key = lambda i:score[i],reverse=True)\n",
    "reranked_chunks = [(i, pairs[i][1]) for i in indices]"
   ]
  },
  {
   "cell_type": "code",
   "execution_count": 11,
   "id": "4e0eebdf-1d70-43b9-8434-848d5ba4c12b",
   "metadata": {},
   "outputs": [
    {
     "name": "stdout",
     "output_type": "stream",
     "text": [
      "2025 BMW Z4, BMW Z4 Reviews, Most Helpful Owner Reviews\n",
      "#### Trending topics\n",
      "* acceleration\n",
      "* appearance\n",
      "* handling & steering\n",
      "* driving experience\n",
      "* spaciousness\n",
      "* ride quality\n",
      "* value\n",
      "* reliability & manufacturing quality\n",
      "* visibility\n",
      "* transmission\n",
      "* seats\n",
      "* comfort\n",
      "* fuel efficiency\n",
      "* interior\n",
      "* engine\n",
      "* infotainment system\n",
      "* road noise\n",
      "* technology\n",
      "* sound system\n",
      "* safety\n",
      "* steering wheel\n",
      "* brakes\n",
      "* wheels & tires  \n",
      "More\n",
      "#### It's very fun to drive\n",
      "5 out of 5 stars\n",
      "Sanfordrich, 12/27/2019\n",
      "2020 BMW Z4 sDrive M40i 2dr Convertible (3.0L 6cyl Turbo 8A)\n",
      "I purchased a Misano Blue M40i (the 6 cylinder) around Aug 1. I wanted a roadster and considered a Porsche Boxster but decided the BMW was the better value. I have not regretted the decision. The BMW is a blast to drive. I think its very attractive and it even sounds good. It is very quick and responsive. A manual transmission is important to some folks but not to me. If I want to … manually shift, I can use the paddle shifters but the automatic is very quick. I appreciate all the convenience and safety options I ordered it with. A Porsche Boxster loaded up with comparable options would be tens of thousands of dollars more. I also considered a Miata, but I liked the over all size, trunk capacity and performance of the Z4.\n",
      "Read more\n",
      "Read less\n",
      "#### Z4 sDrive 30i - pleasantly surprised\n",
      "4 out of 5 stars\n",
      "MDM, 01/14/2022\n",
      "2022 BMW Z4 sDrive30i 2dr Convertible (2.0L 4cyl Turbo 8A)\n",
      "My wife has always wanted a blue convertible roadster with a tan interior and after many years of waiting she decided to get a 2022 Z4 sDrive 30i in Mediterranean Blue Metallic with Cognac Leather with the Convenience and Premium Level Two packages. She did not opt for the sports handling package. This was her purchase and she did the research with a few suggestions by me along the way. … I wasn't sure what to expect so I was pleasantly surprised when I got behind the wheel. Most driving enthusiast sites tout the sDrive 40i with the more powerful engine along with the M version, improved handling, bigger tires, etc...as the way to go. However, I have been very happy with this car. We aren't ever going to take it to the track nor are we looking to push it to the extreme limits of its capabilities. The 4 cylinder 255 horsepower engine offers plenty of power and torque and the car is nicely balanced with the lighter front end due to the smaller engine. The car is refined and the seats are very comfortable. The trunk is larger than I would have expected and the sound proofing is very good. Usually, driving a convertible with the top up is a noisy and unpleasant experience but that is not the case with the Z4. This car could be a legitimate daily driver for most of the year. We got it in the middle of December after waiting 4 months for it to be built. Knowing that my wife would want to drive it on nicer winter days, I swapped out the summer tires for a set of all season Goodyear Eagles and we'll switch them back when the weather warms up in the Spring. Pluses - refined ride - fun to drive - comfortable seats - high quality interior - excellent infotainment system with a bit of a learning curve - quick and responsive without being dangerously fast - again we're looking to have fun on twisty roads, not to break lap records - 8 Speed Automatic Transmission is fantastic - very quick and smooth - Excellent Gas Mileage - especially on the highway. Minuses - BMW upgrades can add up quickly - requires Premium Fuel (no real surprise) - Steering - its electronic so it feels a bit like a video game - brakes are grabby at low speeds so they require some delicate feathering - visibility isn't great with the top up - Minimal storage in the cabin but hey - its a convertible two seater so this isn't a shocker. Overall - she loves the car and I am impressed, it is fun on twisty roads but very comfortable for longer trips with a trunk that allows for weekend getaways and trips to the grocery store, it could be legitimate daily driver.\n",
      "Read more\n",
      "Read less\n",
      "#### Z4 M40i thoughts\n",
      "5 out of 5 stars\n",
      "Todd gipson, 07/11/2020\n",
      "2020 BMW Z4 sDrive M40i 2dr Convertible (3.0L 6cyl Turbo 8A)\n",
      "If you are questioning yourself about purchasing a convertible do not hesitate with the. New z4. The ride is as quiet as a hardtop and smooth in in comfort mode. Test dive one for yourself you will not be disappointed with the comfort and the power the z4 offers. It has been a year of ownership, I still love to drive my Z4. No regrets with my purchase. I get many complements on the … looks plus you do not see this model around my area.\n",
      "Read more\n",
      "Read less\n",
      "#### Z4 sDrive30i Drive A Blast\n",
      "5 out of 5 stars\n",
      "Robert, 10/10/2020\n",
      "2020 BMW Z4 sDrive30i 2dr Convertible (2.0L 4cyl Turbo 8A)\n",
      "I've been a lifetime Toyota and Lexus owner. When I decided to trade in my 2019 Lexus NX300 and 2011 Lexus IS250C, I wanted a fun sports car to drive. I looked at the 2020 Lexus RC350, Audi TT, Mercedes C and E classes, and various Porsche models. I ultimately chose the BMW Z4 sDrive30i. Even though it's the 'base' engine' it has plenty of pep and has great get up and go. I can't believe … how much better the BMW drives versus the Lexus RC350. I am mindful of reliability of BMWs due to the extensive use of plastics in their engine bays, which is why I'm leasing this car (otherwise I would have stuck with Lexus if I did a purchase). No regrets on buying this car as I've thoroughly enjoy it.\n",
      "Read more\n",
      "Read less\n",
      "We have a limited number of reviews for the 2025 BMW Z4, so we've included reviews for other years of the Z4 since its last redesign.\n",
      "[See all 19 reviews of the BMW Z4](https://www.edmunds.com/bmw/z4/</bmw/z4/2025/consumer-reviews/>)\n",
      "[Write a vehicle review](https://www.edmunds.com/bmw/z4/</bmw/z4/2025/write-review/>)\n"
     ]
    }
   ],
   "source": [
    "print(reranked_chunks[2][1])"
   ]
  },
  {
   "cell_type": "code",
   "execution_count": null,
   "id": "f74b1115-34dc-486a-93a4-d8acf73231e3",
   "metadata": {},
   "outputs": [],
   "source": []
  }
 ],
 "metadata": {
  "kernelspec": {
   "display_name": "RAG",
   "language": "python",
   "name": "rag"
  },
  "language_info": {
   "codemirror_mode": {
    "name": "ipython",
    "version": 3
   },
   "file_extension": ".py",
   "mimetype": "text/x-python",
   "name": "python",
   "nbconvert_exporter": "python",
   "pygments_lexer": "ipython3",
   "version": "3.9.21"
  }
 },
 "nbformat": 4,
 "nbformat_minor": 5
}
